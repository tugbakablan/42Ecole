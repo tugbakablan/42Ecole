{
 "cells": [
  {
   "cell_type": "code",
   "execution_count": 1,
   "metadata": {},
   "outputs": [
    {
     "name": "stdout",
     "output_type": "stream",
     "text": [
      "Collecting package metadata (current_repodata.json): done\n",
      "Solving environment: | \n",
      "The environment is inconsistent, please check the package plan carefully\n",
      "The following packages are causing the inconsistency:\n",
      "\n",
      "  - defaults/noarch::bleach==3.2.1=py_0\n",
      "  - defaults/osx-64::pip==20.2.4=py38hecd8cb5_0\n",
      "  - defaults/osx-64::zope.interface==5.1.2=py38haf1e3a3_0\n",
      "  - defaults/osx-64::anaconda==2020.11=py38_0\n",
      "  - defaults/osx-64::nose==1.3.7=py38_1004\n",
      "  - defaults/osx-64::zope.event==4.5.0=py38_0\n",
      "  - defaults/noarch::nbformat==5.0.8=py_0\n",
      "  - defaults/noarch::jsonschema==3.2.0=py_2\n",
      "  - defaults/noarch::nltk==3.5=py_0\n",
      "  - defaults/noarch::isort==5.6.4=py_0\n",
      "  - defaults/osx-64::cython==0.29.21=py38hb1e8313_0\n",
      "  - defaults/noarch::backports.functools_lru_cache==1.6.1=py_0\n",
      "  - defaults/noarch::pygments==2.7.2=pyhd3eb1b0_0\n",
      "  - defaults/noarch::qtconsole==4.7.7=py_0\n",
      "  - defaults/osx-64::pylint==2.6.0=py38_0\n",
      "  - defaults/osx-64::astropy==4.0.2=py38haf1e3a3_0\n",
      "  - defaults/noarch::seaborn==0.11.0=py_0\n",
      "  - defaults/noarch::conda-repo-cli==1.0.4=pyhd3eb1b0_0\n",
      "  - defaults/osx-64::conda-build==3.20.5=py38_1\n",
      "  - defaults/noarch::jupyter_console==6.2.0=py_0\n",
      "  - defaults/osx-64::gevent==20.9.0=py38haf1e3a3_0\n",
      "  - defaults/noarch::anaconda-project==0.8.4=py_0\n",
      "  - defaults/noarch::joblib==0.17.0=py_0\n",
      "  - defaults/osx-64::scikit-learn==0.23.2=py38h959d312_0\n",
      "  - defaults/noarch::jinja2==2.11.2=py_0\n",
      "  - defaults/osx-64::_ipyw_jlab_nb_ext_conf==0.1.0=py38_0\n",
      "  - defaults/osx-64::distributed==2.30.1=py38hecd8cb5_0\n",
      "  - defaults/osx-64::anaconda-client==1.7.2=py38_0\n",
      "  - defaults/noarch::networkx==2.5=py_0\n",
      "  - defaults/noarch::numpydoc==1.1.0=pyhd3eb1b0_1\n",
      "  - defaults/noarch::prompt_toolkit==3.0.8=0\n",
      "  - defaults/noarch::ipywidgets==7.5.1=py_1\n",
      "  - defaults/noarch::jupyterlab==2.2.6=py_0\n",
      "  - defaults/noarch::nbclient==0.5.1=py_0\n",
      "  - defaults/osx-64::scikit-image==0.17.2=py38h81aa140_0\n",
      "  - defaults/noarch::flake8==3.8.4=py_0\n",
      "  - defaults/osx-64::widgetsnbextension==3.5.1=py38_0\n",
      "  - defaults/noarch::conda-verify==3.4.2=py_1\n",
      "  - defaults/osx-64::clyent==1.2.2=py38_1\n",
      "  - defaults/osx-64::astroid==2.4.2=py38_0\n",
      "  - defaults/noarch::jupyterlab_pygments==0.1.2=py_0\n",
      "  - defaults/noarch::jupyterlab_server==1.2.0=py_0\n",
      "  - defaults/osx-64::spyder-kernels==1.9.4=py38_0\n",
      "  - defaults/osx-64::bokeh==2.2.3=py38_0\n",
      "  - defaults/noarch::dask==2.30.0=py_0\n",
      "  - defaults/osx-64::matplotlib-base==3.3.2=py38h181983e_0\n",
      "  - defaults/osx-64::ipython==7.19.0=py38h01d92e1_0\n",
      "  - defaults/osx-64::jupyter==1.0.0=py38_7\n",
      "  - defaults/osx-64::ipykernel==5.3.4=py38h5ca1d4c_0\n",
      "  - defaults/osx-64::notebook==6.1.4=py38_0\n",
      "  - defaults/osx-64::anaconda-navigator==2.0.4=py38_0\n",
      "  - defaults/osx-64::matplotlib==3.3.2=0\n",
      "  - defaults/noarch::sphinx==3.2.1=py_0\n",
      "  - defaults/noarch::python-language-server==0.35.1=py_0\n",
      "  - defaults/osx-64::nbconvert==6.0.7=py38_0\n",
      "  - defaults/noarch::conda-token==0.3.0=pyhd3eb1b0_0\n",
      "  - defaults/osx-64::spyder==4.1.5=py38_0\n",
      "  - defaults/osx-64::conda==4.10.3=py38hecd8cb5_0\n",
      "  - defaults/noarch::flask==1.1.2=py_0\n",
      "  - defaults/noarch::prompt-toolkit==3.0.8=py_0\n",
      "  - defaults/osx-64::numba==0.51.2=py38h6440ff4_1\n",
      "failed with initial frozen solve. Retrying with flexible solve.\n",
      "Solving environment: done\n",
      "Collecting package metadata (repodata.json): done\n",
      "Solving environment: \\ \n",
      "The environment is inconsistent, please check the package plan carefully\n",
      "The following packages are causing the inconsistency:\n",
      "\n",
      "  - defaults/noarch::bleach==3.2.1=py_0\n",
      "  - defaults/osx-64::pip==20.2.4=py38hecd8cb5_0\n",
      "  - defaults/osx-64::pytest==6.1.1=py38_0\n",
      "  - defaults/noarch::contextlib2==0.6.0.post1=py_0\n",
      "  - defaults/osx-64::path==15.0.0=py38_0\n",
      "  - defaults/osx-64::psutil==5.7.2=py38haf1e3a3_0\n",
      "  - defaults/osx-64::zope.interface==5.1.2=py38haf1e3a3_0\n",
      "  - defaults/noarch::certifi==2020.6.20=pyhd3eb1b0_3\n",
      "  - defaults/osx-64::regex==2020.10.15=py38haf1e3a3_0\n",
      "  - defaults/osx-64::anaconda==2020.11=py38_0\n",
      "  - defaults/noarch::attrs==20.3.0=pyhd3eb1b0_0\n",
      "  - defaults/noarch::babel==2.8.1=pyhd3eb1b0_0\n",
      "  - defaults/osx-64::pywavelets==1.1.1=py38haf1e3a3_2\n",
      "  - defaults/osx-64::nose==1.3.7=py38_1004\n",
      "  - defaults/osx-64::xlwt==1.3.0=py38_0\n",
      "  - defaults/osx-64::argon2-cffi==20.1.0=py38haf1e3a3_1\n",
      "  - defaults/noarch::pyparsing==2.4.7=py_0\n",
      "  - defaults/osx-64::rtree==0.9.4=py38_1\n",
      "  - defaults/osx-64::six==1.15.0=py38hecd8cb5_0\n",
      "  - defaults/osx-64::pyyaml==5.3.1=py38haf1e3a3_1\n",
      "  - defaults/osx-64::pycurl==7.43.0.6=py38hddc9c9b_0\n",
      "  - defaults/osx-64::mkl_random==1.1.1=py38h959d312_0\n",
      "  - defaults/osx-64::ptyprocess==0.6.0=py38_0\n",
      "  - defaults/noarch::python-libarchive-c==2.9=py_0\n",
      "  - defaults/noarch::soupsieve==2.0.1=py_0\n",
      "  - defaults/osx-64::pyqt==5.9.2=py38h655552a_2\n",
      "  - defaults/osx-64::pycosat==0.6.3=py38h1de35cc_1\n",
      "  - defaults/osx-64::zope.event==4.5.0=py38_0\n",
      "  - defaults/osx-64::scipy==1.5.2=py38h2515648_0\n",
      "  - defaults/noarch::sphinxcontrib-qthelp==1.0.3=py_0\n",
      "  - defaults/osx-64::simplegeneric==0.8.1=py38_2\n",
      "  - defaults/noarch::dask-core==2.30.0=py_0\n",
      "  - defaults/noarch::olefile==0.46=py_0\n",
      "  - defaults/noarch::nbformat==5.0.8=py_0\n",
      "  - defaults/noarch::sortedcontainers==2.2.2=py_0\n",
      "  - defaults/noarch::jsonschema==3.2.0=py_2\n",
      "  - defaults/osx-64::jedi==0.17.1=py38_0\n",
      "  - defaults/noarch::nltk==3.5=py_0\n",
      "  - defaults/noarch::isort==5.6.4=py_0\n",
      "  - defaults/osx-64::get_terminal_size==1.0.0=h7520d66_0\n",
      "  - defaults/osx-64::cffi==1.14.3=py38hed5b41f_0\n",
      "  - defaults/osx-64::cython==0.29.21=py38hb1e8313_0\n",
      "  - defaults/noarch::backports.functools_lru_cache==1.6.1=py_0\n",
      "  - defaults/osx-64::bottleneck==1.3.2=py38hf1fa96c_1\n",
      "  - defaults/osx-64::numpy==1.19.2=py38h456fd55_0\n",
      "  - defaults/noarch::prometheus_client==0.8.0=py_0\n",
      "  - defaults/osx-64::pickleshare==0.7.5=py38_1001\n",
      "  - defaults/noarch::sphinxcontrib-serializinghtml==1.1.4=py_0\n",
      "  - defaults/osx-64::numpy-base==1.19.2=py38hcfb5961_0\n",
      "  - defaults/osx-64::wrapt==1.11.2=py38h1de35cc_0\n",
      "  - defaults/osx-64::pandocfilters==1.4.3=py38hecd8cb5_1\n",
      "  - defaults/osx-64::kiwisolver==1.3.0=py38h23ab428_0\n",
      "  - defaults/noarch::pygments==2.7.2=pyhd3eb1b0_0\n",
      "  - defaults/noarch::werkzeug==1.0.1=py_0\n",
      "  - defaults/osx-64::pysocks==1.7.1=py38_1\n",
      "  - defaults/noarch::beautifulsoup4==4.9.3=pyhb0f4dca_0\n",
      "  - defaults/noarch::glob2==0.7=py_0\n",
      "  - defaults/noarch::qtconsole==4.7.7=py_0\n",
      "  - defaults/osx-64::entrypoints==0.3=py38_0\n",
      "  - defaults/osx-64::webencodings==0.5.1=py38_1\n",
      "  - defaults/noarch::xlsxwriter==1.3.7=py_0\n",
      "  - defaults/osx-64::pylint==2.6.0=py38_0\n",
      "  - defaults/noarch::pydocstyle==5.1.1=py_0\n",
      "  - defaults/noarch::mock==4.0.2=py_0\n",
      "  - defaults/osx-64::appscript==1.1.1=py38haf1e3a3_0\n",
      "  - defaults/noarch::python-jsonrpc-server==0.4.0=py_0\n",
      "  - defaults/osx-64::astropy==4.0.2=py38haf1e3a3_0\n",
      "  - defaults/noarch::jupyter_client==6.1.7=py_0\n",
      "  - defaults/noarch::more-itertools==8.6.0=pyhd3eb1b0_0\n",
      "  - defaults/noarch::threadpoolctl==2.1.0=pyh5ca1d4c_0\n",
      "  - defaults/osx-64::docutils==0.16=py38_1\n",
      "  - defaults/noarch::atomicwrites==1.4.0=py_0\n",
      "  - defaults/osx-64::lxml==4.6.1=py38h63b7cb6_0\n",
      "  - defaults/osx-64::cryptography==3.1.1=py38hddc9c9b_0\n",
      "  - defaults/noarch::imageio==2.9.0=py_0\n",
      "  - defaults/osx-64::backports.shutil_get_terminal_size==1.0.0=py38_2\n",
      "  - defaults/noarch::xlrd==1.2.0=py_0\n",
      "  - defaults/noarch::seaborn==0.11.0=py_0\n",
      "  - defaults/noarch::conda-repo-cli==1.0.4=pyhd3eb1b0_0\n",
      "  - defaults/osx-64::conda-build==3.20.5=py38_1\n",
      "  - defaults/osx-64::sphinxcontrib==1.0=py38_1\n",
      "  - defaults/noarch::decorator==4.4.2=py_0\n",
      "  - defaults/noarch::traitlets==5.0.5=py_0\n",
      "  - defaults/osx-64::argh==0.26.2=py38_0\n",
      "  - defaults/noarch::snowballstemmer==2.0.0=py_0\n",
      "  - defaults/noarch::jupyter_console==6.2.0=py_0\n",
      "  - defaults/osx-64::gevent==20.9.0=py38haf1e3a3_0\n",
      "  - defaults/osx-64::chardet==3.0.4=py38_1003\n",
      "  - defaults/osx-64::send2trash==1.5.0=py38_0\n",
      "  - defaults/osx-64::greenlet==0.4.17=py38haf1e3a3_0\n",
      "  - defaults/osx-64::pep8==1.7.1=py38_0\n",
      "  - defaults/noarch::json5==0.9.5=py_0\n",
      "  - defaults/noarch::anaconda-project==0.8.4=py_0\n",
      "  - defaults/noarch::backports==1.0=py_2\n",
      "  - defaults/noarch::joblib==0.17.0=py_0\n",
      "  - defaults/osx-64::appnope==0.1.0=py38_1001\n",
      "  - defaults/osx-64::keyring==21.4.0=py38_1\n",
      "  - defaults/noarch::partd==1.1.0=py_0\n",
      "  - defaults/osx-64::llvmlite==0.34.0=py38h739e7dc_4\n",
      "  - defaults/osx-64::navigator-updater==0.2.1=py38_0\n",
      "  - defaults/osx-64::pyzmq==19.0.2=py38hb1e8313_1\n",
      "  - defaults/noarch::pyflakes==2.2.0=py_0\n",
      "  - defaults/noarch::sortedcollections==1.2.1=py_0\n",
      "  - defaults/noarch::itsdangerous==1.1.0=py_0\n",
      "  - defaults/osx-64::ujson==4.0.1=py38hb1e8313_0\n",
      "  - defaults/noarch::py==1.9.0=py_0\n",
      "  - defaults/noarch::testpath==0.4.4=py_0\n",
      "  - defaults/osx-64::boto==2.49.0=py38_0\n",
      "  - defaults/noarch::conda-content-trust==0.1.1=pyhd3eb1b0_0\n",
      "  - defaults/osx-64::patsy==0.5.1=py38_0\n",
      "  - defaults/noarch::sphinxcontrib-devhelp==1.0.2=py_0\n",
      "  - defaults/osx-64::multipledispatch==0.6.0=py38_0\n",
      "  - defaults/osx-64::scikit-learn==0.23.2=py38h959d312_0\n",
      "  - defaults/osx-64::unicodecsv==0.14.1=py38_0\n",
      "  - defaults/noarch::jinja2==2.11.2=py_0\n",
      "  - defaults/osx-64::pillow==8.0.1=py38h5270095_0\n",
      "  - defaults/osx-64::_ipyw_jlab_nb_ext_conf==0.1.0=py38_0\n",
      "  - defaults/osx-64::distributed==2.30.1=py38hecd8cb5_0\n",
      "  - defaults/osx-64::msgpack-python==1.0.0=py38h04f5b5a_1\n",
      "  - defaults/osx-64::anaconda-client==1.7.2=py38_0\n",
      "  - defaults/osx-64::python==3.8.5=h26836e1_1\n",
      "  - defaults/noarch::intervaltree==3.1.0=py_0\n",
      "  - defaults/noarch::networkx==2.5=py_0\n",
      "  - defaults/osx-64::mccabe==0.6.1=py38_1\n",
      "  - defaults/noarch::importlib-metadata==2.0.0=py_1\n",
      "  - defaults/osx-64::numexpr==2.7.1=py38hce01a72_0\n",
      "  - defaults/noarch::numpydoc==1.1.0=pyhd3eb1b0_1\n",
      "  - defaults/noarch::autopep8==1.5.4=py_0\n",
      "  - defaults/noarch::sphinxcontrib-htmlhelp==1.0.3=py_0\n",
      "  - defaults/osx-64::jupyter_core==4.6.3=py38_0\n",
      "  - defaults/noarch::backports.tempfile==1.0=py_1\n",
      "  - defaults/noarch::prompt_toolkit==3.0.8=0\n",
      "  - defaults/noarch::idna==2.10=py_0\n",
      "  - defaults/noarch::ipywidgets==7.5.1=py_1\n",
      "  - defaults/osx-64::brotlipy==0.7.0=py38haf1e3a3_1000\n",
      "  - defaults/osx-64::pyodbc==4.0.30=py38h0a44026_0\n",
      "  - defaults/noarch::packaging==20.4=py_0\n",
      "  - defaults/noarch::yapf==0.30.0=py_0\n",
      "  - defaults/noarch::jupyterlab==2.2.6=py_0\n",
      "  - defaults/noarch::nbclient==0.5.1=py_0\n",
      "  - defaults/noarch::path.py==12.5.0=0\n",
      "  - defaults/osx-64::terminado==0.9.1=py38_0\n",
      "  - defaults/noarch::wcwidth==0.2.5=py_0\n",
      "  - defaults/osx-64::cycler==0.10.0=py38_0\n",
      "  - defaults/osx-64::scikit-image==0.17.2=py38h81aa140_0\n",
      "  - defaults/osx-64::mistune==0.8.4=py38h1de35cc_1001\n",
      "  - defaults/noarch::flake8==3.8.4=py_0\n",
      "  - defaults/noarch::defusedxml==0.6.0=py_0\n",
      "  - defaults/osx-64::widgetsnbextension==3.5.1=py38_0\n",
      "  - defaults/noarch::conda-verify==3.4.2=py_1\n",
      "  - defaults/noarch::parso==0.7.0=py_0\n",
      "  - defaults/osx-64::clyent==1.2.2=py38_1\n",
      "  - defaults/osx-64::tifffile==2020.10.1=py38h0cf3a3e_2\n",
      "  - defaults/osx-64::astroid==2.4.2=py38_0\n",
      "  - defaults/osx-64::pkginfo==1.6.1=py38hecd8cb5_0\n",
      "  - defaults/noarch::pyopenssl==19.1.0=py_1\n",
      "  - defaults/noarch::alabaster==0.7.12=py_0\n",
      "  - defaults/noarch::pytz==2020.1=py_0\n",
      "  - defaults/noarch::rope==0.18.0=py_0\n",
      "  - defaults/noarch::pathtools==0.1.2=py_1\n",
      "  - defaults/noarch::jupyterlab_pygments==0.1.2=py_0\n",
      "  - defaults/osx-64::pyrsistent==0.17.3=py38haf1e3a3_0\n",
      "  - defaults/osx-64::markupsafe==1.1.1=py38h1de35cc_1\n",
      "  - defaults/noarch::jupyterlab_server==1.2.0=py_0\n",
      "  - defaults/osx-64::spyder-kernels==1.9.4=py38_0\n",
      "  - defaults/osx-64::bokeh==2.2.3=py38_0\n",
      "  - defaults/osx-64::locket==0.2.0=py38_1\n",
      "  - defaults/osx-64::pathlib2==2.3.5=py38_1\n",
      "  - defaults/osx-64::statsmodels==0.12.0=py38haf1e3a3_0\n",
      "  - defaults/noarch::dask==2.30.0=py_0\n",
      "  - defaults/noarch::toolz==0.11.1=py_0\n",
      "  - defaults/osx-64::h5py==2.10.0=py38h3134771_0\n",
      "  - defaults/osx-64::watchdog==0.10.3=py38haf1e3a3_0\n",
      "  - defaults/noarch::heapdict==1.0.1=py_0\n",
      "  - defaults/noarch::diff-match-patch==20200713=py_0\n",
      "  - defaults/noarch::toml==0.10.1=py_0\n",
      "  - defaults/osx-64::matplotlib-base==3.3.2=py38h181983e_0\n",
      "  - defaults/noarch::sphinxcontrib-applehelp==1.0.2=py_0\n",
      "  - defaults/osx-64::cytoolz==0.11.0=py38haf1e3a3_0\n",
      "  - defaults/osx-64::pandas==1.1.3=py38hb1e8313_0\n",
      "  - defaults/noarch::fsspec==0.8.3=py_0\n",
      "  - defaults/osx-64::ipython==7.19.0=py38h01d92e1_0\n",
      "  - defaults/osx-64::ruamel_yaml==0.15.87=py38haf1e3a3_1\n",
      "  - defaults/noarch::qdarkstyle==2.8.1=py_0\n",
      "  - defaults/osx-64::jupyter==1.0.0=py38_7\n",
      "  - defaults/osx-64::gmpy2==2.0.8=py38h6ef4df4_3\n",
      "  - defaults/osx-64::py-lief==0.10.1=py38haf313ee_0\n",
      "  - defaults/noarch::pycparser==2.20=py_2\n",
      "  - defaults/noarch::pycodestyle==2.6.0=py_0\n",
      "  - defaults/osx-64::ipykernel==5.3.4=py38h5ca1d4c_0\n",
      "  - defaults/osx-64::notebook==6.1.4=py38_0\n",
      "  - defaults/noarch::et_xmlfile==1.0.1=py_1001\n",
      "  - defaults/osx-64::anaconda-navigator==2.0.4=py38_0\n",
      "  - defaults/osx-64::wurlitzer==2.0.1=py38_0\n",
      "  - defaults/osx-64::bitarray==1.6.1=py38h9ed2024_0\n",
      "  - defaults/noarch::click==7.1.2=py_0\n",
      "  - defaults/osx-64::bkcharts==0.2=py38_0\n",
      "  - defaults/noarch::xmltodict==0.12.0=py_0\n",
      "  - defaults/noarch::openpyxl==3.0.5=py_0\n",
      "  - defaults/osx-64::python.app==2=py38_10\n",
      "  - defaults/noarch::backcall==0.2.0=py_0\n",
      "  - defaults/noarch::jdcal==1.4.1=py_0\n",
      "  - defaults/osx-64::fastcache==1.1.0=py38h1de35cc_0\n",
      "  - defaults/osx-64::matplotlib==3.3.2=0\n",
      "  - defaults/noarch::sphinxcontrib-jsmath==1.0.1=py_0\n",
      "  - defaults/noarch::sphinx==3.2.1=py_0\n",
      "  - defaults/noarch::python-language-server==0.35.1=py_0\n",
      "  - defaults/osx-64::sympy==1.6.2=py38hecd8cb5_1\n",
      "  - defaults/osx-64::ply==3.11=py38_0\n",
      "  - defaults/osx-64::nbconvert==6.0.7=py38_0\n",
      "  - defaults/osx-64::pluggy==0.13.1=py38_0\n",
      "  - defaults/noarch::tblib==1.7.0=py_0\n",
      "  - defaults/noarch::async_generator==1.10=py_0\n",
      "  - defaults/noarch::iniconfig==1.1.1=py_0\n",
      "  - defaults/noarch::applaunchservices==0.2.1=py_0\n",
      "  - defaults/noarch::conda-token==0.3.0=pyhd3eb1b0_0\n",
      "  - defaults/osx-64::spyder==4.1.5=py38_0\n",
      "  - defaults/osx-64::zope==1.0=py38_1\n",
      "  - defaults/osx-64::conda==4.10.3=py38hecd8cb5_0\n",
      "  - defaults/noarch::flask==1.1.2=py_0\n",
      "  - defaults/osx-64::conda-package-handling==1.7.2=py38h22f3db7_0\n",
      "  - defaults/osx-64::sqlalchemy==1.3.20=py38h9ed2024_0\n",
      "  - defaults/osx-64::sip==4.19.8=py38h0a44026_0\n",
      "  - defaults/osx-64::tornado==6.0.4=py38h1de35cc_1\n",
      "  - defaults/noarch::imagesize==1.2.0=py_0\n",
      "  - defaults/osx-64::lazy-object-proxy==1.4.3=py38h1de35cc_0\n",
      "  - defaults/noarch::colorama==0.4.4=py_0\n",
      "  - defaults/noarch::filelock==3.0.12=py_0\n",
      "  - defaults/noarch::html5lib==1.1=py_0\n",
      "  - defaults/noarch::prompt-toolkit==3.0.8=py_0\n",
      "  - defaults/noarch::importlib_metadata==2.0.0=1\n",
      "  - defaults/noarch::qtawesome==1.0.1=py_0\n",
      "  - defaults/osx-64::mpmath==1.1.0=py38_0\n",
      "  - defaults/noarch::cloudpickle==1.6.0=py_0\n",
      "  - defaults/osx-64::numba==0.51.2=py38h6440ff4_1\n",
      "  - defaults/noarch::tqdm==4.50.2=py_0\n",
      "  - defaults/osx-64::xlwings==0.20.8=py38_0\n",
      "  - defaults/osx-64::mkl_fft==1.2.0=py38hc64f4ea_0\n",
      "  - defaults/osx-64::pexpect==4.8.0=py38_1\n",
      "  - defaults/noarch::nest-asyncio==1.4.2=pyhd3eb1b0_0\n",
      "  - defaults/noarch::sphinxcontrib-websupport==1.2.4=py_0\n",
      "  - defaults/noarch::python-dateutil==2.8.1=py_0\n",
      "  - defaults/noarch::wheel==0.35.1=py_0\n",
      "  - defaults/noarch::singledispatch==3.4.0.3=py_1001\n",
      "  - defaults/noarch::typing_extensions==3.7.4.3=py_0\n",
      "  - defaults/noarch::backports.weakref==1.0.post1=py_1\n",
      "  - defaults/noarch::zipp==3.4.0=pyhd3eb1b0_0\n",
      "  - defaults/osx-64::pytables==3.6.1=py38h4727e94_0\n",
      "  - defaults/osx-64::ipython_genutils==0.2.0=py38_0\n",
      "  - defaults/noarch::qtpy==1.9.0=py_0\n",
      "  - defaults/noarch::asn1crypto==1.4.0=py_0\n",
      "  - defaults/osx-64::mkl-service==2.3.0=py38hfbe908c_0\n",
      "  - defaults/osx-64::future==0.18.2=py38_1\n",
      "  - defaults/noarch::zict==2.0.0=py_0\n"
     ]
    },
    {
     "name": "stdout",
     "output_type": "stream",
     "text": [
      "done\n",
      "\n",
      "\n",
      "==> WARNING: A newer version of conda exists. <==\n",
      "  current version: 4.10.3\n",
      "  latest version: 23.1.0\n",
      "\n",
      "Please update conda by running\n",
      "\n",
      "    $ conda update -n base -c defaults conda\n",
      "\n",
      "\n",
      "\n",
      "## Package Plan ##\n",
      "\n",
      "  environment location: /opt/anaconda3\n",
      "\n",
      "  added / updated specs:\n",
      "    - numpy\n",
      "\n",
      "\n",
      "The following packages will be downloaded:\n",
      "\n",
      "    package                    |            build\n",
      "    ---------------------------|-----------------\n",
      "    _anaconda_depends-2020.07  |           py38_0           6 KB\n",
      "    anaconda-custom            |           py38_1          35 KB\n",
      "    ca-certificates-2023.01.10 |       hecd8cb5_0         121 KB\n",
      "    charset-normalizer-2.0.4   |     pyhd3eb1b0_0          35 KB\n",
      "    libllvm9-9.0.1             |       h21ff451_1        15.4 MB\n",
      "    openssl-1.1.1t             |       hca72f7f_0         3.3 MB\n",
      "    requests-2.28.1            |   py38hecd8cb5_0          93 KB\n",
      "    setuptools-65.6.3          |   py38hecd8cb5_0         1.1 MB\n",
      "    snappy-1.1.8               |       hb1e8313_0          54 KB\n",
      "    tbb-2021.3.0               |       hf7b0b51_0         155 KB\n",
      "    urllib3-1.26.14            |   py38hecd8cb5_0         196 KB\n",
      "    ------------------------------------------------------------\n",
      "                                           Total:        20.5 MB\n",
      "\n",
      "The following NEW packages will be INSTALLED:\n",
      "\n",
      "  _anaconda_depends  pkgs/main/osx-64::_anaconda_depends-2020.07-py38_0\n",
      "  charset-normalizer pkgs/main/noarch::charset-normalizer-2.0.4-pyhd3eb1b0_0\n",
      "  libllvm9           pkgs/main/osx-64::libllvm9-9.0.1-h21ff451_1\n",
      "  requests           pkgs/main/osx-64::requests-2.28.1-py38hecd8cb5_0\n",
      "  setuptools         pkgs/main/osx-64::setuptools-65.6.3-py38hecd8cb5_0\n",
      "  snappy             pkgs/main/osx-64::snappy-1.1.8-hb1e8313_0\n",
      "  tbb                pkgs/main/osx-64::tbb-2021.3.0-hf7b0b51_0\n",
      "  urllib3            pkgs/main/osx-64::urllib3-1.26.14-py38hecd8cb5_0\n",
      "\n",
      "The following packages will be UPDATED:\n",
      "\n",
      "  ca-certificates                              2020.10.14-0 --> 2023.01.10-hecd8cb5_0\n",
      "  openssl                                 1.1.1h-haf1e3a3_0 --> 1.1.1t-hca72f7f_0\n",
      "\n",
      "The following packages will be DOWNGRADED:\n",
      "\n",
      "  anaconda                                   2020.11-py38_0 --> custom-py38_1\n",
      "\n",
      "\n",
      "\n",
      "Downloading and Extracting Packages\n",
      "ca-certificates-2023 | 121 KB    | ##################################### | 100% \n",
      "requests-2.28.1      | 93 KB     | ##################################### | 100% \n",
      "openssl-1.1.1t       | 3.3 MB    | ##################################### | 100% \n",
      "charset-normalizer-2 | 35 KB     | ##################################### | 100% \n",
      "_anaconda_depends-20 | 6 KB      | ##################################### | 100% \n",
      "libllvm9-9.0.1       | 15.4 MB   | ##################################### | 100% \n",
      "setuptools-65.6.3    | 1.1 MB    | ##################################### | 100% \n",
      "snappy-1.1.8         | 54 KB     | ##################################### | 100% \n",
      "anaconda-custom      | 35 KB     | ##################################### | 100% \n",
      "urllib3-1.26.14      | 196 KB    | ##################################### | 100% \n",
      "tbb-2021.3.0         | 155 KB    | ##################################### | 100% \n",
      "Preparing transaction: done\n",
      "Verifying transaction: failed\n",
      "\n",
      "RemoveError: 'requests' is a dependency of conda and cannot be removed from\n",
      "conda's operating environment.\n",
      "RemoveError: 'setuptools' is a dependency of conda and cannot be removed from\n",
      "conda's operating environment.\n",
      "\n",
      "\n",
      "Note: you may need to restart the kernel to use updated packages.\n"
     ]
    }
   ],
   "source": [
    "conda install numpy"
   ]
  },
  {
   "cell_type": "code",
   "execution_count": 2,
   "metadata": {},
   "outputs": [],
   "source": [
    "import numpy as np"
   ]
  },
  {
   "cell_type": "code",
   "execution_count": 3,
   "metadata": {},
   "outputs": [],
   "source": [
    "#numpy array"
   ]
  },
  {
   "cell_type": "code",
   "execution_count": 4,
   "metadata": {},
   "outputs": [],
   "source": [
    "my_list = [10,20,30,40]"
   ]
  },
  {
   "cell_type": "code",
   "execution_count": 5,
   "metadata": {},
   "outputs": [
    {
     "data": {
      "text/plain": [
       "list"
      ]
     },
     "execution_count": 5,
     "metadata": {},
     "output_type": "execute_result"
    }
   ],
   "source": [
    "type(my_list)"
   ]
  },
  {
   "cell_type": "code",
   "execution_count": 6,
   "metadata": {},
   "outputs": [
    {
     "data": {
      "text/plain": [
       "array([10, 20, 30, 40])"
      ]
     },
     "execution_count": 6,
     "metadata": {},
     "output_type": "execute_result"
    }
   ],
   "source": [
    "np.array(my_list)"
   ]
  },
  {
   "cell_type": "code",
   "execution_count": 7,
   "metadata": {},
   "outputs": [],
   "source": [
    "my_numpy_array = np.array(my_list)"
   ]
  },
  {
   "cell_type": "code",
   "execution_count": 8,
   "metadata": {},
   "outputs": [
    {
     "data": {
      "text/plain": [
       "numpy.ndarray"
      ]
     },
     "execution_count": 8,
     "metadata": {},
     "output_type": "execute_result"
    }
   ],
   "source": [
    "type(my_numpy_array)"
   ]
  },
  {
   "cell_type": "code",
   "execution_count": 9,
   "metadata": {},
   "outputs": [
    {
     "data": {
      "text/plain": [
       "array([10, 20, 30, 40])"
      ]
     },
     "execution_count": 9,
     "metadata": {},
     "output_type": "execute_result"
    }
   ],
   "source": [
    "my_numpy_array"
   ]
  },
  {
   "cell_type": "code",
   "execution_count": 10,
   "metadata": {},
   "outputs": [
    {
     "data": {
      "text/plain": [
       "10"
      ]
     },
     "execution_count": 10,
     "metadata": {},
     "output_type": "execute_result"
    }
   ],
   "source": [
    "my_numpy_array[0]"
   ]
  },
  {
   "cell_type": "code",
   "execution_count": 11,
   "metadata": {},
   "outputs": [
    {
     "data": {
      "text/plain": [
       "40"
      ]
     },
     "execution_count": 11,
     "metadata": {},
     "output_type": "execute_result"
    }
   ],
   "source": [
    "my_numpy_array[-1]"
   ]
  },
  {
   "cell_type": "code",
   "execution_count": 12,
   "metadata": {},
   "outputs": [],
   "source": [
    "my_numpy_array[0] = 100"
   ]
  },
  {
   "cell_type": "code",
   "execution_count": 13,
   "metadata": {},
   "outputs": [
    {
     "data": {
      "text/plain": [
       "array([100,  20,  30,  40])"
      ]
     },
     "execution_count": 13,
     "metadata": {},
     "output_type": "execute_result"
    }
   ],
   "source": [
    "my_numpy_array"
   ]
  },
  {
   "cell_type": "code",
   "execution_count": 14,
   "metadata": {},
   "outputs": [
    {
     "data": {
      "text/plain": [
       "100"
      ]
     },
     "execution_count": 14,
     "metadata": {},
     "output_type": "execute_result"
    }
   ],
   "source": [
    "my_numpy_array.max()"
   ]
  },
  {
   "cell_type": "code",
   "execution_count": 15,
   "metadata": {},
   "outputs": [
    {
     "data": {
      "text/plain": [
       "20"
      ]
     },
     "execution_count": 15,
     "metadata": {},
     "output_type": "execute_result"
    }
   ],
   "source": [
    "my_numpy_array.min()"
   ]
  },
  {
   "cell_type": "code",
   "execution_count": 16,
   "metadata": {},
   "outputs": [
    {
     "data": {
      "text/plain": [
       "47.5"
      ]
     },
     "execution_count": 16,
     "metadata": {},
     "output_type": "execute_result"
    }
   ],
   "source": [
    "my_numpy_array.mean()"
   ]
  },
  {
   "cell_type": "code",
   "execution_count": 17,
   "metadata": {},
   "outputs": [],
   "source": [
    "matrix_list = [[1,0,0],[0,1,0],[0,0,1],[0,0,0]]"
   ]
  },
  {
   "cell_type": "code",
   "execution_count": 18,
   "metadata": {},
   "outputs": [
    {
     "data": {
      "text/plain": [
       "list"
      ]
     },
     "execution_count": 18,
     "metadata": {},
     "output_type": "execute_result"
    }
   ],
   "source": [
    "type(matrix_list)"
   ]
  },
  {
   "cell_type": "code",
   "execution_count": 20,
   "metadata": {},
   "outputs": [
    {
     "data": {
      "text/plain": [
       "1"
      ]
     },
     "execution_count": 20,
     "metadata": {},
     "output_type": "execute_result"
    }
   ],
   "source": [
    "matrix_list[0][0]"
   ]
  },
  {
   "cell_type": "code",
   "execution_count": 22,
   "metadata": {},
   "outputs": [],
   "source": [
    "numpy_matrix_list = np.array(matrix_list)"
   ]
  },
  {
   "cell_type": "code",
   "execution_count": 23,
   "metadata": {},
   "outputs": [
    {
     "data": {
      "text/plain": [
       "array([[1, 0, 0],\n",
       "       [0, 1, 0],\n",
       "       [0, 0, 1],\n",
       "       [0, 0, 0]])"
      ]
     },
     "execution_count": 23,
     "metadata": {},
     "output_type": "execute_result"
    }
   ],
   "source": [
    "numpy_matrix_list"
   ]
  },
  {
   "cell_type": "code",
   "execution_count": 25,
   "metadata": {},
   "outputs": [
    {
     "data": {
      "text/plain": [
       "1"
      ]
     },
     "execution_count": 25,
     "metadata": {},
     "output_type": "execute_result"
    }
   ],
   "source": [
    "numpy_matrix_list[0][0]"
   ]
  },
  {
   "cell_type": "code",
   "execution_count": 27,
   "metadata": {},
   "outputs": [
    {
     "data": {
      "text/plain": [
       "(4, 3)"
      ]
     },
     "execution_count": 27,
     "metadata": {},
     "output_type": "execute_result"
    }
   ],
   "source": [
    "numpy_matrix_list.shape"
   ]
  },
  {
   "cell_type": "code",
   "execution_count": 28,
   "metadata": {},
   "outputs": [],
   "source": [
    "#arange"
   ]
  },
  {
   "cell_type": "code",
   "execution_count": 29,
   "metadata": {},
   "outputs": [
    {
     "data": {
      "text/plain": [
       "range(0, 10)"
      ]
     },
     "execution_count": 29,
     "metadata": {},
     "output_type": "execute_result"
    }
   ],
   "source": [
    "range(0,10)"
   ]
  },
  {
   "cell_type": "code",
   "execution_count": 30,
   "metadata": {},
   "outputs": [
    {
     "data": {
      "text/plain": [
       "[0, 1, 2, 3, 4, 5, 6, 7, 8, 9]"
      ]
     },
     "execution_count": 30,
     "metadata": {},
     "output_type": "execute_result"
    }
   ],
   "source": [
    "list(range(0,10))"
   ]
  },
  {
   "cell_type": "code",
   "execution_count": 31,
   "metadata": {},
   "outputs": [
    {
     "data": {
      "text/plain": [
       "array([0, 1, 2, 3, 4, 5, 6, 7, 8, 9])"
      ]
     },
     "execution_count": 31,
     "metadata": {},
     "output_type": "execute_result"
    }
   ],
   "source": [
    "np.arange(0,10)"
   ]
  },
  {
   "cell_type": "code",
   "execution_count": 32,
   "metadata": {},
   "outputs": [
    {
     "data": {
      "text/plain": [
       "array([ 0,  2,  4,  6,  8, 10, 12, 14, 16, 18, 20, 22, 24, 26, 28])"
      ]
     },
     "execution_count": 32,
     "metadata": {},
     "output_type": "execute_result"
    }
   ],
   "source": [
    "np.arange(0,30,2)"
   ]
  },
  {
   "cell_type": "code",
   "execution_count": 33,
   "metadata": {},
   "outputs": [
    {
     "data": {
      "text/plain": [
       "array([0., 0., 0., 0., 0., 0., 0., 0., 0., 0.])"
      ]
     },
     "execution_count": 33,
     "metadata": {},
     "output_type": "execute_result"
    }
   ],
   "source": [
    "np.zeros(10)"
   ]
  },
  {
   "cell_type": "code",
   "execution_count": 34,
   "metadata": {},
   "outputs": [
    {
     "data": {
      "text/plain": [
       "array([[0., 0., 0., 0., 0., 0., 0., 0., 0., 0.],\n",
       "       [0., 0., 0., 0., 0., 0., 0., 0., 0., 0.],\n",
       "       [0., 0., 0., 0., 0., 0., 0., 0., 0., 0.],\n",
       "       [0., 0., 0., 0., 0., 0., 0., 0., 0., 0.],\n",
       "       [0., 0., 0., 0., 0., 0., 0., 0., 0., 0.],\n",
       "       [0., 0., 0., 0., 0., 0., 0., 0., 0., 0.],\n",
       "       [0., 0., 0., 0., 0., 0., 0., 0., 0., 0.],\n",
       "       [0., 0., 0., 0., 0., 0., 0., 0., 0., 0.],\n",
       "       [0., 0., 0., 0., 0., 0., 0., 0., 0., 0.],\n",
       "       [0., 0., 0., 0., 0., 0., 0., 0., 0., 0.]])"
      ]
     },
     "execution_count": 34,
     "metadata": {},
     "output_type": "execute_result"
    }
   ],
   "source": [
    "np.zeros((10,10))"
   ]
  },
  {
   "cell_type": "code",
   "execution_count": 35,
   "metadata": {},
   "outputs": [
    {
     "data": {
      "text/plain": [
       "array([[1., 1., 1., 1., 1., 1., 1., 1., 1., 1.],\n",
       "       [1., 1., 1., 1., 1., 1., 1., 1., 1., 1.],\n",
       "       [1., 1., 1., 1., 1., 1., 1., 1., 1., 1.],\n",
       "       [1., 1., 1., 1., 1., 1., 1., 1., 1., 1.],\n",
       "       [1., 1., 1., 1., 1., 1., 1., 1., 1., 1.],\n",
       "       [1., 1., 1., 1., 1., 1., 1., 1., 1., 1.],\n",
       "       [1., 1., 1., 1., 1., 1., 1., 1., 1., 1.],\n",
       "       [1., 1., 1., 1., 1., 1., 1., 1., 1., 1.],\n",
       "       [1., 1., 1., 1., 1., 1., 1., 1., 1., 1.],\n",
       "       [1., 1., 1., 1., 1., 1., 1., 1., 1., 1.]])"
      ]
     },
     "execution_count": 35,
     "metadata": {},
     "output_type": "execute_result"
    }
   ],
   "source": [
    "np.ones((10,10))"
   ]
  },
  {
   "cell_type": "code",
   "execution_count": 36,
   "metadata": {},
   "outputs": [],
   "source": [
    "#linspace"
   ]
  },
  {
   "cell_type": "code",
   "execution_count": 39,
   "metadata": {},
   "outputs": [
    {
     "data": {
      "text/plain": [
       "array([ 0.        ,  0.1010101 ,  0.2020202 ,  0.3030303 ,  0.4040404 ,\n",
       "        0.50505051,  0.60606061,  0.70707071,  0.80808081,  0.90909091,\n",
       "        1.01010101,  1.11111111,  1.21212121,  1.31313131,  1.41414141,\n",
       "        1.51515152,  1.61616162,  1.71717172,  1.81818182,  1.91919192,\n",
       "        2.02020202,  2.12121212,  2.22222222,  2.32323232,  2.42424242,\n",
       "        2.52525253,  2.62626263,  2.72727273,  2.82828283,  2.92929293,\n",
       "        3.03030303,  3.13131313,  3.23232323,  3.33333333,  3.43434343,\n",
       "        3.53535354,  3.63636364,  3.73737374,  3.83838384,  3.93939394,\n",
       "        4.04040404,  4.14141414,  4.24242424,  4.34343434,  4.44444444,\n",
       "        4.54545455,  4.64646465,  4.74747475,  4.84848485,  4.94949495,\n",
       "        5.05050505,  5.15151515,  5.25252525,  5.35353535,  5.45454545,\n",
       "        5.55555556,  5.65656566,  5.75757576,  5.85858586,  5.95959596,\n",
       "        6.06060606,  6.16161616,  6.26262626,  6.36363636,  6.46464646,\n",
       "        6.56565657,  6.66666667,  6.76767677,  6.86868687,  6.96969697,\n",
       "        7.07070707,  7.17171717,  7.27272727,  7.37373737,  7.47474747,\n",
       "        7.57575758,  7.67676768,  7.77777778,  7.87878788,  7.97979798,\n",
       "        8.08080808,  8.18181818,  8.28282828,  8.38383838,  8.48484848,\n",
       "        8.58585859,  8.68686869,  8.78787879,  8.88888889,  8.98989899,\n",
       "        9.09090909,  9.19191919,  9.29292929,  9.39393939,  9.49494949,\n",
       "        9.5959596 ,  9.6969697 ,  9.7979798 ,  9.8989899 , 10.        ])"
      ]
     },
     "execution_count": 39,
     "metadata": {},
     "output_type": "execute_result"
    }
   ],
   "source": [
    "np.linspace(0,10,100)"
   ]
  },
  {
   "cell_type": "code",
   "execution_count": 40,
   "metadata": {},
   "outputs": [],
   "source": [
    "#random"
   ]
  },
  {
   "cell_type": "code",
   "execution_count": 45,
   "metadata": {},
   "outputs": [
    {
     "data": {
      "text/plain": [
       "array([6, 9, 7])"
      ]
     },
     "execution_count": 45,
     "metadata": {},
     "output_type": "execute_result"
    }
   ],
   "source": [
    "np.random.randint(1,10,3)"
   ]
  },
  {
   "cell_type": "code",
   "execution_count": 46,
   "metadata": {},
   "outputs": [
    {
     "data": {
      "text/plain": [
       "51"
      ]
     },
     "execution_count": 46,
     "metadata": {},
     "output_type": "execute_result"
    }
   ],
   "source": [
    "np.random.randint(1,100)"
   ]
  },
  {
   "cell_type": "code",
   "execution_count": 47,
   "metadata": {},
   "outputs": [
    {
     "data": {
      "text/plain": [
       "array([72, 32, 74,  2, 11, 97, 86, 58,  3, 36])"
      ]
     },
     "execution_count": 47,
     "metadata": {},
     "output_type": "execute_result"
    }
   ],
   "source": [
    "np.random.randint(1,100,10)"
   ]
  },
  {
   "cell_type": "code",
   "execution_count": 48,
   "metadata": {},
   "outputs": [],
   "source": [
    "#numpy arrays methods"
   ]
  },
  {
   "cell_type": "code",
   "execution_count": 49,
   "metadata": {},
   "outputs": [],
   "source": [
    "my_numpy_list = np.arange(0,20)"
   ]
  },
  {
   "cell_type": "code",
   "execution_count": 50,
   "metadata": {},
   "outputs": [
    {
     "data": {
      "text/plain": [
       "array([ 0,  1,  2,  3,  4,  5,  6,  7,  8,  9, 10, 11, 12, 13, 14, 15, 16,\n",
       "       17, 18, 19])"
      ]
     },
     "execution_count": 50,
     "metadata": {},
     "output_type": "execute_result"
    }
   ],
   "source": [
    "my_numpy_list"
   ]
  },
  {
   "cell_type": "code",
   "execution_count": 51,
   "metadata": {},
   "outputs": [
    {
     "data": {
      "text/plain": [
       "4"
      ]
     },
     "execution_count": 51,
     "metadata": {},
     "output_type": "execute_result"
    }
   ],
   "source": [
    "my_numpy_list[4]"
   ]
  },
  {
   "cell_type": "code",
   "execution_count": 52,
   "metadata": {},
   "outputs": [
    {
     "data": {
      "text/plain": [
       "array([4, 5, 6, 7, 8])"
      ]
     },
     "execution_count": 52,
     "metadata": {},
     "output_type": "execute_result"
    }
   ],
   "source": [
    "my_numpy_list[4:9]"
   ]
  },
  {
   "cell_type": "code",
   "execution_count": 53,
   "metadata": {},
   "outputs": [
    {
     "data": {
      "text/plain": [
       "array([4, 6, 8])"
      ]
     },
     "execution_count": 53,
     "metadata": {},
     "output_type": "execute_result"
    }
   ],
   "source": [
    "my_numpy_list[4:9:2]"
   ]
  },
  {
   "cell_type": "code",
   "execution_count": 54,
   "metadata": {},
   "outputs": [],
   "source": [
    "my_list = list(range(0,20))"
   ]
  },
  {
   "cell_type": "code",
   "execution_count": 55,
   "metadata": {},
   "outputs": [
    {
     "data": {
      "text/plain": [
       "[0, 1, 2, 3, 4, 5, 6, 7, 8, 9, 10, 11, 12, 13, 14, 15, 16, 17, 18, 19]"
      ]
     },
     "execution_count": 55,
     "metadata": {},
     "output_type": "execute_result"
    }
   ],
   "source": [
    "my_list"
   ]
  },
  {
   "cell_type": "code",
   "execution_count": 56,
   "metadata": {},
   "outputs": [
    {
     "data": {
      "text/plain": [
       "[4, 6, 8]"
      ]
     },
     "execution_count": 56,
     "metadata": {},
     "output_type": "execute_result"
    }
   ],
   "source": [
    "my_list[4:9:2]"
   ]
  },
  {
   "cell_type": "code",
   "execution_count": 59,
   "metadata": {},
   "outputs": [],
   "source": [
    "#my_list[4:9] = -10"
   ]
  },
  {
   "cell_type": "code",
   "execution_count": 60,
   "metadata": {},
   "outputs": [],
   "source": [
    "my_numpy_list[4:9] = -10"
   ]
  },
  {
   "cell_type": "code",
   "execution_count": 61,
   "metadata": {},
   "outputs": [
    {
     "data": {
      "text/plain": [
       "array([  0,   1,   2,   3, -10, -10, -10, -10, -10,   9,  10,  11,  12,\n",
       "        13,  14,  15,  16,  17,  18,  19])"
      ]
     },
     "execution_count": 61,
     "metadata": {},
     "output_type": "execute_result"
    }
   ],
   "source": [
    "my_numpy_list"
   ]
  },
  {
   "cell_type": "code",
   "execution_count": 62,
   "metadata": {},
   "outputs": [],
   "source": [
    "other_list = np.arange(0,15)"
   ]
  },
  {
   "cell_type": "code",
   "execution_count": 63,
   "metadata": {},
   "outputs": [
    {
     "data": {
      "text/plain": [
       "array([ 0,  1,  2,  3,  4,  5,  6,  7,  8,  9, 10, 11, 12, 13, 14])"
      ]
     },
     "execution_count": 63,
     "metadata": {},
     "output_type": "execute_result"
    }
   ],
   "source": [
    "other_list"
   ]
  },
  {
   "cell_type": "code",
   "execution_count": 64,
   "metadata": {},
   "outputs": [
    {
     "data": {
      "text/plain": [
       "array([4, 5, 6, 7, 8, 9])"
      ]
     },
     "execution_count": 64,
     "metadata": {},
     "output_type": "execute_result"
    }
   ],
   "source": [
    "other_list[4:10]"
   ]
  },
  {
   "cell_type": "code",
   "execution_count": 65,
   "metadata": {},
   "outputs": [],
   "source": [
    "slicing_list = other_list[4:10]"
   ]
  },
  {
   "cell_type": "code",
   "execution_count": 66,
   "metadata": {},
   "outputs": [
    {
     "data": {
      "text/plain": [
       "array([4, 5, 6, 7, 8, 9])"
      ]
     },
     "execution_count": 66,
     "metadata": {},
     "output_type": "execute_result"
    }
   ],
   "source": [
    "slicing_list"
   ]
  },
  {
   "cell_type": "code",
   "execution_count": 67,
   "metadata": {},
   "outputs": [
    {
     "data": {
      "text/plain": [
       "array([ 0,  1,  2,  3,  4,  5,  6,  7,  8,  9, 10, 11, 12, 13, 14])"
      ]
     },
     "execution_count": 67,
     "metadata": {},
     "output_type": "execute_result"
    }
   ],
   "source": [
    "other_list"
   ]
  },
  {
   "cell_type": "code",
   "execution_count": 68,
   "metadata": {},
   "outputs": [
    {
     "data": {
      "text/plain": [
       "4"
      ]
     },
     "execution_count": 68,
     "metadata": {},
     "output_type": "execute_result"
    }
   ],
   "source": [
    "slicing_list[0]"
   ]
  },
  {
   "cell_type": "code",
   "execution_count": 69,
   "metadata": {},
   "outputs": [],
   "source": [
    "slicing_list[:] = 100"
   ]
  },
  {
   "cell_type": "code",
   "execution_count": 70,
   "metadata": {},
   "outputs": [
    {
     "data": {
      "text/plain": [
       "array([100, 100, 100, 100, 100, 100])"
      ]
     },
     "execution_count": 70,
     "metadata": {},
     "output_type": "execute_result"
    }
   ],
   "source": [
    "slicing_list"
   ]
  },
  {
   "cell_type": "code",
   "execution_count": 71,
   "metadata": {},
   "outputs": [
    {
     "data": {
      "text/plain": [
       "array([  0,   1,   2,   3, 100, 100, 100, 100, 100, 100,  10,  11,  12,\n",
       "        13,  14])"
      ]
     },
     "execution_count": 71,
     "metadata": {},
     "output_type": "execute_result"
    }
   ],
   "source": [
    "other_list"
   ]
  },
  {
   "cell_type": "code",
   "execution_count": 72,
   "metadata": {},
   "outputs": [
    {
     "data": {
      "text/plain": [
       "[0, 1, 2, 3, 4, 5, 6, 7, 8, 9, 10, 11, 12, 13, 14, 15, 16, 17, 18, 19]"
      ]
     },
     "execution_count": 72,
     "metadata": {},
     "output_type": "execute_result"
    }
   ],
   "source": [
    "my_list"
   ]
  },
  {
   "cell_type": "code",
   "execution_count": 73,
   "metadata": {},
   "outputs": [],
   "source": [
    "slicing_my_list = my_list[4:9]"
   ]
  },
  {
   "cell_type": "code",
   "execution_count": 74,
   "metadata": {},
   "outputs": [
    {
     "data": {
      "text/plain": [
       "[4, 5, 6, 7, 8]"
      ]
     },
     "execution_count": 74,
     "metadata": {},
     "output_type": "execute_result"
    }
   ],
   "source": [
    "slicing_my_list"
   ]
  },
  {
   "cell_type": "code",
   "execution_count": 76,
   "metadata": {},
   "outputs": [],
   "source": [
    "slicing_my_list[0] = -100"
   ]
  },
  {
   "cell_type": "code",
   "execution_count": 77,
   "metadata": {},
   "outputs": [],
   "source": [
    "slicing_my_list[1] = -100"
   ]
  },
  {
   "cell_type": "code",
   "execution_count": 78,
   "metadata": {},
   "outputs": [
    {
     "data": {
      "text/plain": [
       "[-100, -100, 6, 7, 8]"
      ]
     },
     "execution_count": 78,
     "metadata": {},
     "output_type": "execute_result"
    }
   ],
   "source": [
    "slicing_my_list"
   ]
  },
  {
   "cell_type": "code",
   "execution_count": 79,
   "metadata": {},
   "outputs": [
    {
     "data": {
      "text/plain": [
       "[0, 1, 2, 3, 4, 5, 6, 7, 8, 9, 10, 11, 12, 13, 14, 15, 16, 17, 18, 19]"
      ]
     },
     "execution_count": 79,
     "metadata": {},
     "output_type": "execute_result"
    }
   ],
   "source": [
    "my_list"
   ]
  },
  {
   "cell_type": "code",
   "execution_count": 80,
   "metadata": {},
   "outputs": [],
   "source": [
    "numpy_list_3 = np.arange(0,20)"
   ]
  },
  {
   "cell_type": "code",
   "execution_count": 81,
   "metadata": {},
   "outputs": [
    {
     "data": {
      "text/plain": [
       "array([ 0,  1,  2,  3,  4,  5,  6,  7,  8,  9, 10, 11, 12, 13, 14, 15, 16,\n",
       "       17, 18, 19])"
      ]
     },
     "execution_count": 81,
     "metadata": {},
     "output_type": "execute_result"
    }
   ],
   "source": [
    "numpy_list_3"
   ]
  },
  {
   "cell_type": "code",
   "execution_count": 82,
   "metadata": {},
   "outputs": [],
   "source": [
    "numpy_list_3_copy = numpy_list_3.copy()"
   ]
  },
  {
   "cell_type": "code",
   "execution_count": 83,
   "metadata": {},
   "outputs": [
    {
     "data": {
      "text/plain": [
       "array([ 0,  1,  2,  3,  4,  5,  6,  7,  8,  9, 10, 11, 12, 13, 14, 15, 16,\n",
       "       17, 18, 19])"
      ]
     },
     "execution_count": 83,
     "metadata": {},
     "output_type": "execute_result"
    }
   ],
   "source": [
    "numpy_list_3_copy"
   ]
  },
  {
   "cell_type": "code",
   "execution_count": 84,
   "metadata": {},
   "outputs": [],
   "source": [
    "slicing_3 = numpy_list_3_copy[4:9]"
   ]
  },
  {
   "cell_type": "code",
   "execution_count": 86,
   "metadata": {},
   "outputs": [],
   "source": [
    "slicing_3[:] = -100"
   ]
  },
  {
   "cell_type": "code",
   "execution_count": 87,
   "metadata": {},
   "outputs": [
    {
     "data": {
      "text/plain": [
       "array([-100, -100, -100, -100, -100])"
      ]
     },
     "execution_count": 87,
     "metadata": {},
     "output_type": "execute_result"
    }
   ],
   "source": [
    "slicing_3"
   ]
  },
  {
   "cell_type": "code",
   "execution_count": 88,
   "metadata": {},
   "outputs": [
    {
     "data": {
      "text/plain": [
       "array([   0,    1,    2,    3, -100, -100, -100, -100, -100,    9,   10,\n",
       "         11,   12,   13,   14,   15,   16,   17,   18,   19])"
      ]
     },
     "execution_count": 88,
     "metadata": {},
     "output_type": "execute_result"
    }
   ],
   "source": [
    "numpy_list_3_copy"
   ]
  },
  {
   "cell_type": "code",
   "execution_count": 89,
   "metadata": {},
   "outputs": [
    {
     "data": {
      "text/plain": [
       "array([ 0,  1,  2,  3,  4,  5,  6,  7,  8,  9, 10, 11, 12, 13, 14, 15, 16,\n",
       "       17, 18, 19])"
      ]
     },
     "execution_count": 89,
     "metadata": {},
     "output_type": "execute_result"
    }
   ],
   "source": [
    "numpy_list_3"
   ]
  },
  {
   "cell_type": "code",
   "execution_count": 90,
   "metadata": {},
   "outputs": [],
   "source": [
    "#numpy operations with numpy arrays"
   ]
  },
  {
   "cell_type": "code",
   "execution_count": 91,
   "metadata": {},
   "outputs": [],
   "source": [
    "new_array = np.random.randint(1,150,25)"
   ]
  },
  {
   "cell_type": "code",
   "execution_count": 92,
   "metadata": {},
   "outputs": [
    {
     "data": {
      "text/plain": [
       "array([145,  95,   3,  10,  26,  49,  76, 147, 130,  47,  21,  89,  55,\n",
       "        48, 121,  36,  17,  39,  49,  70,  30,  85,  82,  92, 122])"
      ]
     },
     "execution_count": 92,
     "metadata": {},
     "output_type": "execute_result"
    }
   ],
   "source": [
    "new_array"
   ]
  },
  {
   "cell_type": "code",
   "execution_count": 93,
   "metadata": {},
   "outputs": [
    {
     "data": {
      "text/plain": [
       "array([ True,  True, False, False, False, False,  True,  True,  True,\n",
       "       False, False,  True,  True, False,  True, False, False, False,\n",
       "       False,  True, False,  True,  True,  True,  True])"
      ]
     },
     "execution_count": 93,
     "metadata": {},
     "output_type": "execute_result"
    }
   ],
   "source": [
    "new_array > 50"
   ]
  },
  {
   "cell_type": "code",
   "execution_count": 94,
   "metadata": {},
   "outputs": [],
   "source": [
    "result_array = new_array > 50"
   ]
  },
  {
   "cell_type": "code",
   "execution_count": 95,
   "metadata": {},
   "outputs": [
    {
     "data": {
      "text/plain": [
       "array([ True,  True, False, False, False, False,  True,  True,  True,\n",
       "       False, False,  True,  True, False,  True, False, False, False,\n",
       "       False,  True, False,  True,  True,  True,  True])"
      ]
     },
     "execution_count": 95,
     "metadata": {},
     "output_type": "execute_result"
    }
   ],
   "source": [
    "result_array"
   ]
  },
  {
   "cell_type": "code",
   "execution_count": 96,
   "metadata": {},
   "outputs": [
    {
     "data": {
      "text/plain": [
       "array([145,  95,   3,  10,  26,  49,  76, 147, 130,  47,  21,  89,  55,\n",
       "        48, 121,  36,  17,  39,  49,  70,  30,  85,  82,  92, 122])"
      ]
     },
     "execution_count": 96,
     "metadata": {},
     "output_type": "execute_result"
    }
   ],
   "source": [
    "new_array"
   ]
  },
  {
   "cell_type": "code",
   "execution_count": 97,
   "metadata": {},
   "outputs": [
    {
     "data": {
      "text/plain": [
       "array([145,  95,  76, 147, 130,  89,  55, 121,  70,  85,  82,  92, 122])"
      ]
     },
     "execution_count": 97,
     "metadata": {},
     "output_type": "execute_result"
    }
   ],
   "source": [
    "new_array[result_array]"
   ]
  },
  {
   "cell_type": "code",
   "execution_count": 98,
   "metadata": {},
   "outputs": [],
   "source": [
    "last_array = np.arange(0,30)"
   ]
  },
  {
   "cell_type": "code",
   "execution_count": 99,
   "metadata": {},
   "outputs": [
    {
     "data": {
      "text/plain": [
       "array([ 0,  1,  2,  3,  4,  5,  6,  7,  8,  9, 10, 11, 12, 13, 14, 15, 16,\n",
       "       17, 18, 19, 20, 21, 22, 23, 24, 25, 26, 27, 28, 29])"
      ]
     },
     "execution_count": 99,
     "metadata": {},
     "output_type": "execute_result"
    }
   ],
   "source": [
    "last_array"
   ]
  },
  {
   "cell_type": "code",
   "execution_count": 100,
   "metadata": {},
   "outputs": [
    {
     "data": {
      "text/plain": [
       "array([ 0,  2,  4,  6,  8, 10, 12, 14, 16, 18, 20, 22, 24, 26, 28, 30, 32,\n",
       "       34, 36, 38, 40, 42, 44, 46, 48, 50, 52, 54, 56, 58])"
      ]
     },
     "execution_count": 100,
     "metadata": {},
     "output_type": "execute_result"
    }
   ],
   "source": [
    "last_array + last_array"
   ]
  },
  {
   "cell_type": "code",
   "execution_count": 101,
   "metadata": {},
   "outputs": [
    {
     "data": {
      "text/plain": [
       "array([  0,   1,   4,   9,  16,  25,  36,  49,  64,  81, 100, 121, 144,\n",
       "       169, 196, 225, 256, 289, 324, 361, 400, 441, 484, 529, 576, 625,\n",
       "       676, 729, 784, 841])"
      ]
     },
     "execution_count": 101,
     "metadata": {},
     "output_type": "execute_result"
    }
   ],
   "source": [
    "last_array * last_array"
   ]
  },
  {
   "cell_type": "code",
   "execution_count": 102,
   "metadata": {},
   "outputs": [
    {
     "data": {
      "text/plain": [
       "array([0, 0, 0, 0, 0, 0, 0, 0, 0, 0, 0, 0, 0, 0, 0, 0, 0, 0, 0, 0, 0, 0,\n",
       "       0, 0, 0, 0, 0, 0, 0, 0])"
      ]
     },
     "execution_count": 102,
     "metadata": {},
     "output_type": "execute_result"
    }
   ],
   "source": [
    "last_array - last_array"
   ]
  },
  {
   "cell_type": "code",
   "execution_count": 103,
   "metadata": {},
   "outputs": [
    {
     "name": "stderr",
     "output_type": "stream",
     "text": [
      "<ipython-input-103-8669891fd9be>:1: RuntimeWarning: invalid value encountered in true_divide\n",
      "  last_array / last_array\n"
     ]
    },
    {
     "data": {
      "text/plain": [
       "array([nan,  1.,  1.,  1.,  1.,  1.,  1.,  1.,  1.,  1.,  1.,  1.,  1.,\n",
       "        1.,  1.,  1.,  1.,  1.,  1.,  1.,  1.,  1.,  1.,  1.,  1.,  1.,\n",
       "        1.,  1.,  1.,  1.])"
      ]
     },
     "execution_count": 103,
     "metadata": {},
     "output_type": "execute_result"
    }
   ],
   "source": [
    "last_array / last_array"
   ]
  },
  {
   "cell_type": "code",
   "execution_count": 104,
   "metadata": {},
   "outputs": [
    {
     "data": {
      "text/plain": [
       "29"
      ]
     },
     "execution_count": 104,
     "metadata": {},
     "output_type": "execute_result"
    }
   ],
   "source": [
    "last_array.max()"
   ]
  },
  {
   "cell_type": "code",
   "execution_count": 105,
   "metadata": {},
   "outputs": [
    {
     "data": {
      "text/plain": [
       "array([ 0,  1,  2,  3,  4,  5,  6,  7,  8,  9, 10, 11, 12, 13, 14, 15, 16,\n",
       "       17, 18, 19, 20, 21, 22, 23, 24, 25, 26, 27, 28, 29])"
      ]
     },
     "execution_count": 105,
     "metadata": {},
     "output_type": "execute_result"
    }
   ],
   "source": [
    "last_array"
   ]
  },
  {
   "cell_type": "code",
   "execution_count": 106,
   "metadata": {},
   "outputs": [
    {
     "data": {
      "text/plain": [
       "29"
      ]
     },
     "execution_count": 106,
     "metadata": {},
     "output_type": "execute_result"
    }
   ],
   "source": [
    "np.max(last_array)"
   ]
  },
  {
   "cell_type": "code",
   "execution_count": 107,
   "metadata": {},
   "outputs": [
    {
     "data": {
      "text/plain": [
       "14.5"
      ]
     },
     "execution_count": 107,
     "metadata": {},
     "output_type": "execute_result"
    }
   ],
   "source": [
    "np.mean(last_array)"
   ]
  },
  {
   "cell_type": "code",
   "execution_count": 108,
   "metadata": {},
   "outputs": [
    {
     "data": {
      "text/plain": [
       "array([0.        , 1.        , 1.41421356, 1.73205081, 2.        ,\n",
       "       2.23606798, 2.44948974, 2.64575131, 2.82842712, 3.        ,\n",
       "       3.16227766, 3.31662479, 3.46410162, 3.60555128, 3.74165739,\n",
       "       3.87298335, 4.        , 4.12310563, 4.24264069, 4.35889894,\n",
       "       4.47213595, 4.58257569, 4.69041576, 4.79583152, 4.89897949,\n",
       "       5.        , 5.09901951, 5.19615242, 5.29150262, 5.38516481])"
      ]
     },
     "execution_count": 108,
     "metadata": {},
     "output_type": "execute_result"
    }
   ],
   "source": [
    "np.sqrt(last_array)"
   ]
  },
  {
   "cell_type": "code",
   "execution_count": null,
   "metadata": {},
   "outputs": [],
   "source": []
  }
 ],
 "metadata": {
  "kernelspec": {
   "display_name": "Python 3",
   "language": "python",
   "name": "python3"
  },
  "language_info": {
   "codemirror_mode": {
    "name": "ipython",
    "version": 3
   },
   "file_extension": ".py",
   "mimetype": "text/x-python",
   "name": "python",
   "nbconvert_exporter": "python",
   "pygments_lexer": "ipython3",
   "version": "3.8.5"
  }
 },
 "nbformat": 4,
 "nbformat_minor": 4
}
